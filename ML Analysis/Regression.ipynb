{
 "cells": [
  {
   "cell_type": "code",
   "execution_count": 1,
   "metadata": {},
   "outputs": [
    {
     "name": "stderr",
     "output_type": "stream",
     "text": [
      "C:\\Users\\dimit\\AppData\\Local\\Temp\\ipykernel_20044\\3071328761.py:1: DeprecationWarning: \n",
      "Pyarrow will become a required dependency of pandas in the next major release of pandas (pandas 3.0),\n",
      "(to allow more performant data types, such as the Arrow string type, and better interoperability with other libraries)\n",
      "but was not found to be installed on your system.\n",
      "If this would cause problems for you,\n",
      "please provide us feedback at https://github.com/pandas-dev/pandas/issues/54466\n",
      "        \n",
      "  import pandas as pd\n"
     ]
    }
   ],
   "source": [
    "import pandas as pd\n",
    "import numpy as np\n",
    "from sklearn.model_selection import train_test_split\n",
    "from sklearn.preprocessing import StandardScaler\n",
    "from sklearn.preprocessing import LabelEncoder\n",
    "from sklearn.linear_model import Ridge\n",
    "from sklearn.metrics import mean_absolute_error\n",
    "from sklearn.metrics import r2_score\n",
    "from sklearn import svm\n",
    "from sklearn.linear_model import ElasticNetCV\n",
    "\n",
    "\n",
    "# Read CSV files into DataFrames\n",
    "data_2020 = pd.DataFrame(pd.read_csv('Data_wStocks/rank_name_symbol_2020.csv'))\n",
    "data_2021 = pd.DataFrame(pd.read_csv('Data_wStocks/rank_name_symbol_2021.csv'))\n",
    "data_2022 = pd.DataFrame(pd.read_csv('Data_wStocks/rank_name_symbol_2022.csv'))\n",
    "data_2023 = pd.DataFrame(pd.read_csv('Data_wStocks/rank_name_symbol_2023.csv'))"
   ]
  },
  {
   "cell_type": "code",
   "execution_count": 2,
   "metadata": {},
   "outputs": [],
   "source": [
    "# Remove commas from the 'Profit' column\n",
    "data_2020['Profit'] = data_2020.loc[:,'Profit'].str.replace(',', '')\n",
    "data_2021['Profit'] = data_2021.loc[:,'Profit'].str.replace(',', '')\n",
    "data_2022['Profit'] = data_2022.loc[:,'Profit'].str.replace(',', '')\n",
    "data_2023['Profit'] = data_2023.loc[:,'Profit'].str.replace(',', '')\n",
    "\n",
    "# Remove $ from the 'Profit' column\n",
    "data_2020['Profit'] = data_2020.loc[:,'Profit'].str.replace('$', '')\n",
    "data_2021['Profit'] = data_2021.loc[:,'Profit'].str.replace('$', '')\n",
    "data_2022['Profit'] = data_2022.loc[:,'Profit'].str.replace('$', '')\n",
    "data_2023['Profit'] = data_2023.loc[:,'Profit'].str.replace('$', '')\n",
    "\n",
    "# Remove () from the 'Profit' column\n",
    "data_2020['Profit'] = data_2020.loc[:,'Profit'].str.replace(')', '')\n",
    "data_2021['Profit'] = data_2021.loc[:,'Profit'].str.replace(')', '')\n",
    "data_2022['Profit'] = data_2022.loc[:,'Profit'].str.replace(')', '')\n",
    "data_2023['Profit'] = data_2023.loc[:,'Profit'].str.replace(')', '')\n",
    "data_2020['Profit'] = data_2020.loc[:,'Profit'].str.replace('(', '')\n",
    "data_2021['Profit'] = data_2021.loc[:,'Profit'].str.replace('(', '')\n",
    "data_2022['Profit'] = data_2022.loc[:,'Profit'].str.replace('(', '')\n",
    "data_2023['Profit'] = data_2023.loc[:,'Profit'].str.replace('(', '')\n",
    "\n",
    "# Convert the 'Profit' column to float\n",
    "data_2020['Profit'] = data_2020.loc[:,'Profit'].astype(float)\n",
    "data_2021['Profit'] = data_2021.loc[:,'Profit'].astype(float)\n",
    "data_2022['Profit'] = data_2022.loc[:,'Profit'].astype(float)\n",
    "data_2023['Profit'] = data_2023.loc[:,'Profit'].astype(float)\n",
    "\n",
    "# Remove commas from the 'Revenue' column\n",
    "data_2020['Revenue'] = data_2020.loc[:,'Revenue'].str.replace(',', '')\n",
    "data_2021['Revenue'] = data_2021.loc[:,'Revenue'].str.replace(',', '')\n",
    "data_2022['Revenue'] = data_2022.loc[:,'Revenue'].str.replace(',', '')\n",
    "data_2023['Revenue'] = data_2023.loc[:,'Revenue'].str.replace(',', '')\n",
    "\n",
    "# Remove $ from the 'Revenue' column\n",
    "data_2020['Revenue'] = data_2020.loc[:,'Revenue'].str.replace('$', '')\n",
    "data_2021['Revenue'] = data_2021.loc[:,'Revenue'].str.replace('$', '')\n",
    "data_2022['Revenue'] = data_2022.loc[:,'Revenue'].str.replace('$', '')\n",
    "data_2023['Revenue'] = data_2023.loc[:,'Revenue'].str.replace('$', '')\n",
    "\n",
    "# Convert the 'Revenue' column to float\n",
    "data_2020['Revenue'] = data_2020.loc[:,'Revenue'].astype(float)\n",
    "data_2021['Revenue'] = data_2021.loc[:,'Revenue'].astype(float)\n",
    "data_2022['Revenue'] = data_2022.loc[:,'Revenue'].astype(float)\n",
    "data_2023['Revenue'] = data_2023.loc[:,'Revenue'].astype(float)\n",
    "\n",
    "\n",
    "# Convert the Stocks columns to float\n",
    "data_2020.loc[:, 'm1-o':'gdp-12'] = data_2020.loc[:, 'm1-o':'gdp-12'].astype(float)\n",
    "data_2021.loc[:, 'm1-o':'gdp-12'] = data_2021.loc[:, 'm1-o':'gdp-12'].astype(float)\n",
    "data_2022.loc[:, 'm1-o':'gdp-12'] = data_2022.loc[:, 'm1-o':'gdp-12'].astype(float)\n",
    "data_2023.loc[:, 'm1-o':'gdp-12'] = data_2023.loc[:, 'm1-o':'gdp-12'].astype(float)\n",
    "\n",
    "\n",
    "# Convert the columns of string type\n",
    "data_2020.loc[:, 'Name':'Industry'] = data_2020.loc[:, 'Name':'Industry'].astype(str)\n",
    "data_2021.loc[:, 'Name':'Industry'] = data_2021.loc[:, 'Name':'Industry'].astype(str)\n",
    "data_2022.loc[:, 'Name':'Industry'] = data_2022.loc[:, 'Name':'Industry'].astype(str)\n",
    "data_2023.loc[:, 'Name':'Industry'] = data_2023.loc[:, 'Name':'Industry'].astype(str)"
   ]
  },
  {
   "cell_type": "code",
   "execution_count": 3,
   "metadata": {},
   "outputs": [],
   "source": [
    "# Cleaning the data for the missing value\n",
    "# Drop rows where any of the specified columns have null values\n",
    "data_2020_cleaned = data_2020.dropna()\n",
    "data_2021_cleaned = data_2021.dropna()\n",
    "data_2022_cleaned = data_2022.dropna()\n",
    "data_2023_cleaned = data_2023.dropna()"
   ]
  },
  {
   "cell_type": "code",
   "execution_count": 4,
   "metadata": {},
   "outputs": [],
   "source": [
    "#Reordering columns\n",
    "numerical_2020 = data_2020_cleaned.loc[:, 'm1-o':'gdp-12']\n",
    "numerical_2020['Revenue'] = data_2020_cleaned['Revenue']\n",
    "numerical_2020['Profit'] = data_2020_cleaned['Profit']  \n",
    "categorical_2020 = data_2020_cleaned.loc[:, ['Ticker','Sector', 'Industry', 'Rank']]\n",
    "\n",
    "numerical_2021 = data_2021_cleaned.loc[:, 'm1-o':'gdp-12']\n",
    "numerical_2021['Revenue'] = data_2021_cleaned['Revenue']\n",
    "numerical_2021['Profit'] = data_2021_cleaned['Profit']  \n",
    "categorical_2021 = data_2021_cleaned.loc[:, ['Ticker','Sector', 'Industry', 'Rank']]\n",
    "\n",
    "numerical_2022 = data_2022_cleaned.loc[:, 'm1-o':'gdp-12']\n",
    "numerical_2022['Revenue'] = data_2022_cleaned['Revenue']\n",
    "numerical_2022['Profit'] = data_2022_cleaned['Profit']  \n",
    "categorical_2022 = data_2022_cleaned.loc[:, ['Ticker','Sector', 'Industry', 'Rank']]\n",
    "\n",
    "numerical_2023 = data_2023_cleaned.loc[:, 'm1-o':'gdp-12']\n",
    "numerical_2023['Revenue'] = data_2023_cleaned['Revenue']\n",
    "numerical_2023['Profit'] = data_2023_cleaned['Profit']  \n",
    "categorical_2023 = data_2023_cleaned.loc[:, ['Ticker','Sector', 'Industry', 'Rank']]"
   ]
  },
  {
   "cell_type": "code",
   "execution_count": 5,
   "metadata": {},
   "outputs": [],
   "source": [
    "#Combining data\n",
    "combined_2020 = pd.concat([categorical_2020, numerical_2020], axis=1)\n",
    "combined_2021 = pd.concat([categorical_2021, numerical_2021], axis=1)\n",
    "combined_2022 = pd.concat([categorical_2022, numerical_2022], axis=1)\n",
    "combined_2023 = pd.concat([categorical_2023, numerical_2023], axis=1)\n",
    "data = pd.concat([combined_2020, combined_2021, combined_2022, combined_2023], axis=0)"
   ]
  },
  {
   "cell_type": "code",
   "execution_count": 6,
   "metadata": {},
   "outputs": [
    {
     "name": "stdout",
     "output_type": "stream",
     "text": [
      "Train set shape: (1062, 51) (1062,)\n",
      "Validation set shape: (354, 51) (354,)\n",
      "Test set shape: (354, 51) (354,)\n"
     ]
    }
   ],
   "source": [
    "scalar = StandardScaler()\n",
    "\n",
    "X_text = data[['Sector', 'Industry']]\n",
    "X_numeric = data.drop(columns=['Ticker', 'Sector', 'Industry', 'Revenue'])\n",
    "\n",
    "label_encoder = LabelEncoder()\n",
    "X_text_encoded = X_text.apply(label_encoder.fit_transform)\n",
    "X = pd.concat([X_text_encoded, X_numeric], axis=1)\n",
    "X = scalar.fit_transform(X)\n",
    "\n",
    "#Separating X and Y variables\n",
    "X = X[:, :-1]\n",
    "Y = X[:, -1]\n",
    "\n",
    "# Splitting data into train and test sets (80% train, 20% test)\n",
    "X_train, X_test, Y_train, Y_test = train_test_split(X, Y, test_size=0.2, random_state=42)\n",
    "\n",
    "# Splitting train set into train and validation sets (60% train, 20% validation)\n",
    "X_train, X_val, Y_train, Y_val = train_test_split(X_train, Y_train, test_size=0.25, random_state=42)\n",
    "\n",
    "# Checking the shapes of the sets\n",
    "print(\"Train set shape:\", X_train.shape, Y_train.shape)\n",
    "print(\"Validation set shape:\", X_val.shape, Y_val.shape)\n",
    "print(\"Test set shape:\", X_test.shape, Y_test.shape)"
   ]
  },
  {
   "cell_type": "code",
   "execution_count": 25,
   "metadata": {},
   "outputs": [
    {
     "name": "stdout",
     "output_type": "stream",
     "text": [
      "\n",
      "Metric           Train                Val                 Test        \n",
      "r2_score  0.9999997295127679\t0.9999996960186028\t0.9999995169662946\n",
      "MSE      0.00040627745842896783\t0.0004146064609040292\t0.00042281839835754627\n",
      "\n"
     ]
    }
   ],
   "source": [
    "ridge_reg = Ridge(alpha=1)\n",
    "ridge_reg.fit(X_train, Y_train)\n",
    "\n",
    "scores = f'''\n",
    "{'Metric'.ljust(10)}{'Train'.center(20)}{'Val'.center(20)}{'Test'.center(20)}\n",
    "{'r2_score'.ljust(10)}{r2_score(Y_train, ridge_reg.predict(X_train))}\\t{r2_score(Y_val, ridge_reg.predict(X_val))}\\t{r2_score(Y_test, ridge_reg.predict(X_test))}\n",
    "{'MSE'.ljust(9)}{mean_absolute_error(Y_train, ridge_reg.predict(X_train))}\\t{mean_absolute_error(Y_val, ridge_reg.predict(X_val))}\\t{mean_absolute_error(Y_test, ridge_reg.predict(X_test))}\n",
    "'''\n",
    "print(scores)"
   ]
  },
  {
   "cell_type": "code",
   "execution_count": 26,
   "metadata": {},
   "outputs": [
    {
     "name": "stdout",
     "output_type": "stream",
     "text": [
      "\n",
      "Metric           Train                Val                 Test        \n",
      "r2_score  0.9999028896660136\t0.9999033604871286\t0.9999015281382575\n",
      "MSE       0.009851595448404936\t0.009879195353520455\t0.009847291911671288\n",
      "\n"
     ]
    }
   ],
   "source": [
    "linear_svr = svm.LinearSVR(epsilon=0.01, tol=0.001, C=1, loss='epsilon_insensitive', random_state=50, dual=True)\n",
    "linear_svr.fit(X_train, Y_train)\n",
    "\n",
    "scores = f'''\n",
    "{'Metric'.ljust(10)}{'Train'.center(20)}{'Val'.center(20)}{'Test'.center(20)}\n",
    "{'r2_score'.ljust(10)}{r2_score(Y_train, linear_svr.predict(X_train))}\\t{r2_score(Y_val, linear_svr.predict(X_val))}\\t{r2_score(Y_test, linear_svr.predict(X_test))}\n",
    "{'MSE'.ljust(10)}{mean_absolute_error(Y_train, linear_svr.predict(X_train))}\\t{mean_absolute_error(Y_val, linear_svr.predict(X_val))}\\t{mean_absolute_error(Y_test, linear_svr.predict(X_test))}\n",
    "'''\n",
    "print(scores)"
   ]
  },
  {
   "cell_type": "code",
   "execution_count": 36,
   "metadata": {},
   "outputs": [
    {
     "name": "stdout",
     "output_type": "stream",
     "text": [
      "\n",
      "Metric           Train                Val                 Test        \n",
      "r2_score  0.9999749448619623\t0.9999753345038238\t0.9999756064535941\n",
      "MSE       0.0040817237516502115\t0.0040593932016837\t0.003951960493191902\n",
      "\n"
     ]
    },
    {
     "name": "stderr",
     "output_type": "stream",
     "text": [
      "C:\\Users\\dimit\\AppData\\Local\\Packages\\PythonSoftwareFoundation.Python.3.12_qbz5n2kfra8p0\\LocalCache\\local-packages\\Python312\\site-packages\\sklearn\\linear_model\\_coordinate_descent.py:678: ConvergenceWarning: Objective did not converge. You might want to increase the number of iterations, check the scale of the features or consider increasing regularisation. Duality gap: 3.615e-01, tolerance: 1.063e-01\n",
      "  model = cd_fast.enet_coordinate_descent(\n"
     ]
    }
   ],
   "source": [
    "elastic = ElasticNetCV(cv=5, random_state=42)\n",
    "\n",
    "elastic.fit(X_train, Y_train)\n",
    "\n",
    "scores = f'''\n",
    "{'Metric'.ljust(10)}{'Train'.center(20)}{'Val'.center(20)}{'Test'.center(20)}\n",
    "{'r2_score'.ljust(10)}{r2_score(Y_train, elastic.predict(X_train))}\\t{r2_score(Y_val, elastic.predict(X_val))}\\t{r2_score(Y_test, elastic.predict(X_test))}\n",
    "{'MSE'.ljust(10)}{mean_absolute_error(Y_train, elastic.predict(X_train))}\\t{mean_absolute_error(Y_val, elastic.predict(X_val))}\\t{mean_absolute_error(Y_test, elastic.predict(X_test))}\n",
    "'''\n",
    "print(scores)"
   ]
  },
  {
   "cell_type": "code",
   "execution_count": null,
   "metadata": {},
   "outputs": [],
   "source": []
  }
 ],
 "metadata": {
  "kernelspec": {
   "display_name": "Python 3",
   "language": "python",
   "name": "python3"
  },
  "language_info": {
   "codemirror_mode": {
    "name": "ipython",
    "version": 3
   },
   "file_extension": ".py",
   "mimetype": "text/x-python",
   "name": "python",
   "nbconvert_exporter": "python",
   "pygments_lexer": "ipython3",
   "version": "3.12.3"
  }
 },
 "nbformat": 4,
 "nbformat_minor": 2
}
